{
 "cells": [
  {
   "cell_type": "markdown",
   "metadata": {},
   "source": [
    "# Geostatistics Athens Week project\n",
    "\n",
    "Authors: \n",
    "\n",
    "General recommendations: \n",
    "\n",
    "In this project you will implement and compare the prediction performances of a number of methods. Please provide their comparison in terms of MSE on a unique (or an ensemble of) validation set(s) (A table summarizing your results at the end would be great). For each method please provide a prediction map over the grid as well as a standard deviation map (if possible). Justify carefully your modeling choices, comment and interpret your results.\n",
    "\n",
    "Your notebook, named after the names of the team members, will have to be uploaded here by the night of sunday 24: \n",
    "\n",
    "https://cloud.minesparis.psl.eu/index.php/s/K5PEdwY5l3FBC4c\n",
    "\n",
    "Good Luck!"
   ]
  },
  {
   "cell_type": "markdown",
   "metadata": {},
   "source": [
    "## The Jura data set\n",
    "The Jura data set comprises seven heavy metals measured in the top soil of the swiss Jura, along with consistently coded land use and rock type factors, as well as geographic coordinates. \n",
    "\n",
    "Variable description :\n",
    "\n",
    "* Xloc: X coordinate, local grid km\n",
    "* Yloc: Y coordinate, local grid km\n",
    "* Landuse: Land use: 1: Forest, 2: Pasture (Weide(land), Wiese, Grasland), 3: Meadow (Wiese, Flur, Matte, Anger), 4: Tillage (Ackerland, bestelltes Land)\n",
    "* Rock: Rock Types: 1: Argovian, 2: Kimmeridgian, 3: Sequanian, 4: Portlandian, 5: Quaternary.\n",
    "* Cd: mg cadmium kg^-1 topsoil\n",
    "* Co: mg cobalt kg^-1 topsoil\n",
    "* Cr: mg chromium kg^-1 topsoil\n",
    "* Cu: mg copper kg^-1 topsoil\n",
    "* Ni: mg nickel kg^-1 topsoil\n",
    "* Pb: mg lead kg^-1 topsoil\n",
    "* Zn: mg zinc kg^-1 topsoil\n",
    "\n",
    "You are given three different files:\n",
    "\n",
    "* jura_pred.csv: learning dataset\n",
    "* jura_grid.csv: prediction grid (contains locations and covariables)\n",
    "* jura_val_loc: validation locations and covariables"
   ]
  },
  {
   "cell_type": "markdown",
   "metadata": {},
   "source": [
    "## I. Exploratory analysis\n",
    "\n",
    "### Basic statistics\n",
    "1. load the dataset from jura_pred.csv (on the cloud)\n",
    "2. What is the class of the dataset?\n",
    "3. What is the number of observations? What is the number of variables?\n",
    "4. Print the name of the variables.\n",
    "5. Compute the minimum and maximum value for each coordinate.\n",
    "6. Compute basic statistics for the seven different heavy metals (mean, min, max, quartiles and standard deviation)\n",
    "7. Compute the mean of cobalt concentration for the four different landuses "
   ]
  },
  {
   "cell_type": "markdown",
   "metadata": {},
   "source": [
    "### Graphical Representations\n",
    "1. Plot the points in the dataset using their coordinates 'Xloc' and 'Yloc'.\n",
    "2. On the same plot, display the points with landuse 2 (pasture) in red.\n",
    "3. Plot the seven heavy metal concentrations histograms.\n",
    "4. Plot the seven heavy metal concentrations as functions of the landuse (boxplots)\n",
    "5. Plot the seven heavy metal concentrations as functions of the rocktype (boxplots)"
   ]
  },
  {
   "cell_type": "markdown",
   "metadata": {},
   "source": [
    "### Some statistics\n",
    "1. Cobalt concentrations with Landuse, Rock and the interactions. Comment the results.\n",
    "3. Do the same on the other concentrations (check the histograms prior to apply a transformation if necessary).\n"
   ]
  },
  {
   "cell_type": "markdown",
   "metadata": {},
   "source": [
    "## II. Interpolation\n",
    "\n",
    "Provide the maps of the cobalt concentration over the Swiss Jura obtained with several regression/interpolation methods, e.g.:\n",
    "\n",
    "\n",
    "* anova\n",
    "* linear regression on the coordinates\n",
    "* Random Forests\n",
    "* Nearest neighbours\n",
    "* Inverse distance\n",
    "* ...\n"
   ]
  },
  {
   "cell_type": "markdown",
   "metadata": {},
   "source": [
    "## III. Univariate analysis\n",
    "\n",
    "### III.1 Variography\n",
    "\n",
    "#### Experimental variogram (isotropic case)\n",
    "\n",
    "1. Compute and plot the experimental variogram of the cobalt concentration. Try different values of lag and comment the results. \n",
    "2. Print the number of pairs of points used to compute the variogram values for different values of lag and comment the results."
   ]
  },
  {
   "cell_type": "markdown",
   "metadata": {},
   "source": [
    "#### Experimental variogram (anisotropic case)\n",
    "\n",
    "1. Compute and plot the variogram maps of the Cobalt concentration to check for anisotropies. Comment.\n",
    "2. Compute and plot directional variograms (according to the anisotropy directions determined with the maps)."
   ]
  },
  {
   "cell_type": "markdown",
   "metadata": {},
   "source": [
    "#### Model adjustement\n",
    "\n",
    "1. Adjust a model (isotropic and anisotropic cases) on experimental variograms and print the model caracteristics.\n",
    "2. Try imposing different structures or combinations of structures."
   ]
  },
  {
   "cell_type": "markdown",
   "metadata": {},
   "source": [
    "### III.2 Prediction\n",
    "\n",
    "#### Ordinary Kriging\n",
    "\n",
    "1. Compute and plot the ordinary kriging of the cobalt over the prediction grid. Plot the associated standard deviation map.\n",
    "2. Try several variogram models (basic structures, anisotropy), and neighborhood options. Compute the prediction scores. Comment the results.\n"
   ]
  },
  {
   "cell_type": "markdown",
   "metadata": {},
   "source": [
    "#### Universal kriging\n",
    "\n",
    "Use the indicators of the different levels of the categorical variables (*Rock*,*Landuse* and the interactions) as covariates to compute the universal kriging prediction. \n",
    "\n",
    "1. Define a model with a constant mean (*order = 0*) and the number of variables with a f locator the we want to work with (*nfex = 4*).\n",
    "2. Compute the variogram of the residuals.\n",
    "3. Adjust a model on the variogram of the residuals. Do not forget to set the drift functions.\n",
    "4. Compute the Kriging with external drift prediction on the grid as well as the standard deviation map."
   ]
  },
  {
   "cell_type": "markdown",
   "metadata": {},
   "source": [
    "## IV. Multivariate analysis\n",
    "\n",
    "### IV.1 Fitting a multivariate model\n",
    "\n",
    "1. Compute the  empirical directional variograms and covariograms of a carefully chosen (justify) set of variables.\n",
    "2. Fit a model"
   ]
  },
  {
   "cell_type": "markdown",
   "metadata": {},
   "source": [
    "### IV.2 Prediction\n",
    "\n",
    "1. Interpolate *Co* on the grid using Ordinary Cokriging and plot the resulting map as well as the standard deviation map.\n",
    "2. Implement the universal cokriging.\n",
    "\n"
   ]
  },
  {
   "cell_type": "markdown",
   "metadata": {},
   "source": [
    "## V. Maximum Likelihood estimation\n",
    "\n",
    "1. Compute the maximum likelihood estimator of the parameters of (some of) your favorite univariate model(s) for the Cobalt concentration. \n",
    "2. Compare the models through a likelihood ratio test or by computing the AIC if they are not nested.\n",
    "3. Compute the predictions each model."
   ]
  },
  {
   "cell_type": "markdown",
   "metadata": {},
   "source": [
    "## VI. Conditional simulations\n",
    "\n",
    "The information threshold for the concentration of cobalt in soils is *12 mg/kg*. \n",
    "\n",
    "1. Generate 100 conditional simulations of the Cobalt concentrations over the swiss Jura according to your favorite model. \n",
    "2. Compute the mean surface of the area of exceedance as well as its associated centered 95% confidence interval.\n",
    "3. Compute and plot the exceedance probability map. Comment."
   ]
  },
  {
   "cell_type": "markdown",
   "metadata": {},
   "source": [
    "## VII. Summary -- Discussion"
   ]
  },
  {
   "cell_type": "markdown",
   "metadata": {},
   "source": [
    "## Appendix: \n",
    "Description of the predictions submitted on kaggle (models, parameters) and corresponding prediction maps.\n"
   ]
  }
 ],
 "metadata": {
  "language_info": {
   "name": "python"
  }
 },
 "nbformat": 4,
 "nbformat_minor": 2
}
