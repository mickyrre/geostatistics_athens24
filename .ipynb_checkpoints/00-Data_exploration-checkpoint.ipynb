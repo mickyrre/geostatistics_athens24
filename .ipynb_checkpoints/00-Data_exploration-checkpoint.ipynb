{
 "cells": [
  {
   "cell_type": "markdown",
   "metadata": {},
   "source": [
    "# Data exploration in Python"
   ]
  },
  {
   "cell_type": "markdown",
   "metadata": {},
   "source": [
    "We start by loading a few useful Python packages."
   ]
  },
  {
   "cell_type": "code",
   "execution_count": null,
   "metadata": {},
   "outputs": [],
   "source": [
    "import numpy as np\n",
    "import pandas as pd\n",
    "import matplotlib.pyplot as plt\n",
    "import seaborn as sns\n",
    "\n",
    "## Figure sizes\n",
    "plt.rcParams['figure.figsize'] = [8,6]"
   ]
  },
  {
   "cell_type": "markdown",
   "metadata": {},
   "source": [
    "We now load the dataset that will be used throughout the course: the Jura dataset. It comprises seven heavy metals measured in the top soil of the swiss Jura, along with consistently coded land use and rock type factors, as well as geographic coordinates. Here is the description of the rocktypes and Land uses:\n",
    "\n",
    "- Rock Types: 1: Argovian, 2: Kimmeridgian, 3: Sequanian, 4: Portlandian, 5: Quaternary.\n",
    "\n",
    "- Land uses: 1: Forest, 2: Pasture (Weide(land), Wiese, Grasland), 3: Meadow (Wiese, Flur, Matte, Anger), 4: Tillage (Ackerland, bestelltes Land)\n"
   ]
  },
  {
   "cell_type": "markdown",
   "metadata": {},
   "source": [
    "1. Load the dataset from the file *jura_pred.csv* (on the cloud) using the Pandas library."
   ]
  },
  {
   "cell_type": "code",
   "execution_count": null,
   "metadata": {},
   "outputs": [],
   "source": [
    "# Dataset\n",
    "jura=pd.read_csv(\"jura/jura_pred.csv\")"
   ]
  },
  {
   "cell_type": "markdown",
   "metadata": {},
   "source": [
    "2. What is the class of the dataset?"
   ]
  },
  {
   "cell_type": "code",
   "execution_count": null,
   "metadata": {},
   "outputs": [],
   "source": [
    "type(jura)"
   ]
  },
  {
   "cell_type": "markdown",
   "metadata": {},
   "source": [
    "3. What is the number of observations? What is the number of variables?"
   ]
  },
  {
   "cell_type": "code",
   "execution_count": null,
   "metadata": {},
   "outputs": [],
   "source": [
    "jura.shape"
   ]
  },
  {
   "cell_type": "markdown",
   "metadata": {},
   "source": [
    "3. Print the name of the variables."
   ]
  },
  {
   "cell_type": "code",
   "execution_count": null,
   "metadata": {},
   "outputs": [],
   "source": [
    "jura.columns.values"
   ]
  },
  {
   "cell_type": "markdown",
   "metadata": {},
   "source": [
    "4. Compute the minimum and maximum value for each coordinate."
   ]
  },
  {
   "cell_type": "code",
   "execution_count": null,
   "metadata": {},
   "outputs": [],
   "source": [
    "## Here are two ways to compute the minimum of each coordinate\n",
    "res= [jura['Xloc'].min(), jura['Yloc'].min()]\n",
    "print(\"\\n Min - 1st way :\\n \", res)\n",
    "\n",
    "res=jura[['Xloc','Yloc']].min(0)\n",
    "print(\"\\n Min - 2nd way :\\n\", res)\n",
    "\n",
    "## Likewise for the maximum\n",
    "res=[jura['Xloc'].max(), jura['Yloc'].max()]\n",
    "print(\"\\n Max - 1st way :\\n\", res)\n",
    "\n",
    "res=jura[['Xloc','Yloc']].max(0)\n",
    "print(\"\\n Max - 2nd way :\\n\", res)"
   ]
  },
  {
   "cell_type": "markdown",
   "metadata": {},
   "source": [
    "5. Compute basic statistics for the seven different heavy metals (mean, min, max, quartiles and standard deviation)"
   ]
  },
  {
   "cell_type": "code",
   "execution_count": null,
   "metadata": {},
   "outputs": [],
   "source": [
    "## 1st way: using the describe method of Pandas dataframes\n",
    "res=jura.iloc[:,4:].describe()\n",
    "\n",
    "print(\"With the describe method:\")\n",
    "print(res)"
   ]
  },
  {
   "cell_type": "code",
   "execution_count": null,
   "metadata": {},
   "outputs": [],
   "source": [
    "## 2nd way: manually\n",
    "res_min=jura.iloc[:,4:].min(0)\n",
    "res_max=jura.iloc[:,4:].max(0)\n",
    "res_mean=jura.iloc[:,4:].mean(0)\n",
    "res_std=jura.iloc[:,4:].std(0)\n",
    "res_quartile_25=jura.iloc[:,4:].quantile(0.25)\n",
    "res_quartile_50=jura.iloc[:,4:].quantile(0.5)\n",
    "res_quartile_75=jura.iloc[:,4:].quantile(0.75)\n",
    "\n",
    "print(\"Min\\n\",res_quartile_25)"
   ]
  },
  {
   "cell_type": "markdown",
   "metadata": {},
   "source": [
    "6. Compute the mean cobalt concentration for the four different landuses "
   ]
  },
  {
   "cell_type": "code",
   "execution_count": null,
   "metadata": {},
   "outputs": [],
   "source": [
    "mean_Co_1=jura['Co'][jura['Landuse']==1].mean()\n",
    "mean_Co_2=jura['Co'][jura['Landuse']==2].mean()\n",
    "mean_Co_3=jura['Co'][jura['Landuse']==3].mean()\n",
    "mean_Co_4=jura['Co'][jura['Landuse']==4].mean()\n",
    "print([mean_Co_1,mean_Co_2,mean_Co_3,mean_Co_4])"
   ]
  },
  {
   "cell_type": "markdown",
   "metadata": {},
   "source": [
    "### Graphical Representations\n"
   ]
  },
  {
   "cell_type": "markdown",
   "metadata": {},
   "source": [
    "1. Plot the points in the dataset using their coordinates 'Xloc' and 'Yloc'."
   ]
  },
  {
   "cell_type": "code",
   "execution_count": null,
   "metadata": {},
   "outputs": [],
   "source": [
    "plt.scatter(jura['Xloc'],jura['Yloc'])\n",
    "plt.xlabel('Xloc')\n",
    "plt.ylabel('Yloc')\n",
    "plt.show()"
   ]
  },
  {
   "cell_type": "markdown",
   "metadata": {},
   "source": [
    "2. On the same plot, display the points with landuse 2 (pasture) in red."
   ]
  },
  {
   "cell_type": "code",
   "execution_count": null,
   "metadata": {},
   "outputs": [],
   "source": [
    "plt.scatter(jura['Xloc'],jura['Yloc'])\n",
    "plt.scatter(jura['Xloc'][jura['Landuse']==2],jura['Yloc'][jura['Landuse']==2],color=\"red\")\n",
    "plt.xlabel('Xloc')\n",
    "plt.ylabel('Yloc')\n",
    "plt.show()"
   ]
  },
  {
   "cell_type": "markdown",
   "metadata": {},
   "source": [
    "3. Plot the seven, heavy metal concentrations histograms."
   ]
  },
  {
   "cell_type": "code",
   "execution_count": null,
   "metadata": {},
   "outputs": [],
   "source": [
    "## Manually, on a grid\n",
    "fig,ax = plt.subplots(nrows=2,ncols=4) ## To create a grid of plots\n",
    "ax[0,0].hist(jura['Cd']) \n",
    "ax[0,0].set_title('Cd')\n",
    "ax[0,1].hist(jura['Co']) \n",
    "ax[0,1].set_title('Co')\n",
    "ax[0,2].hist(jura['Cr'])\n",
    "ax[0,2].set_title('Cr')\n",
    "ax[0,3].hist(jura['Cu']) \n",
    "ax[0,3].set_title('Cu')\n",
    "ax[1,0].hist(jura['Ni']) \n",
    "ax[1,0].set_title('Ni')\n",
    "ax[1,1].hist(jura['Pb']) \n",
    "ax[1,1].set_title('Pb')\n",
    "ax[1,2].hist(jura['Zn']) \n",
    "ax[1,2].set_title('Zn')\n",
    "plt.show()\n",
    "\n",
    "## With a loop, on a single line\n",
    "metal_names=jura.columns.values[4:]\n",
    "fig,ax = plt.subplots(nrows=1,ncols=len(metal_names),figsize=(20,6)) ## To create a grid of plots\n",
    "for i in range(len(metal_names)):\n",
    "    name=metal_names[i]\n",
    "    ax[i].hist(jura[name]) \n",
    "    ax[i].set_title(name)\n",
    "plt.show()"
   ]
  },
  {
   "cell_type": "markdown",
   "metadata": {},
   "source": [
    "4. Plot the seven heavy metal concentrations as functions of the landuse"
   ]
  },
  {
   "cell_type": "code",
   "execution_count": null,
   "metadata": {},
   "outputs": [],
   "source": [
    "## With a loop, on a single line\n",
    "metal_names=jura.columns.values[4:]\n",
    "fig,ax = plt.subplots(nrows=1,ncols=len(metal_names),figsize=(20,6)) ## To create a grid of plots\n",
    "for i in range(len(metal_names)):\n",
    "    name=metal_names[i]\n",
    "    ax[i].scatter(jura['Landuse'],jura[name]) \n",
    "    ax[i].set_title(name)\n",
    "plt.show()"
   ]
  },
  {
   "cell_type": "markdown",
   "metadata": {},
   "source": [
    "Same but with boxplots"
   ]
  },
  {
   "cell_type": "code",
   "execution_count": null,
   "metadata": {},
   "outputs": [],
   "source": [
    "metal_names = jura.columns.values[4:]\n",
    "fig, ax = plt.subplots(nrows=1, ncols=len(metal_names), figsize=(20, 6))  # To create a grid of plots\n",
    "\n",
    "for i, name in enumerate(metal_names):\n",
    "    sns.boxplot(x=jura['Landuse'], y=jura[name], ax=ax[i])\n",
    "    ax[i].set_title(name)\n",
    "\n",
    "plt.show()"
   ]
  },
  {
   "cell_type": "markdown",
   "metadata": {},
   "source": [
    "5. Plot the seven heavy metal concentrations as functions of the rocktype"
   ]
  },
  {
   "cell_type": "code",
   "execution_count": null,
   "metadata": {},
   "outputs": [],
   "source": [
    "## With a loop, on a single line\n",
    "metal_names=jura.columns.values[4:]\n",
    "fig,ax = plt.subplots(nrows=1,ncols=len(metal_names),figsize=(20,6)) ## To create a grid of plots\n",
    "for i in range(len(metal_names)):\n",
    "    name=metal_names[i]\n",
    "    ax[i].scatter(jura['Rock'],jura[name]) \n",
    "    ax[i].set_title(name)\n",
    "plt.show()"
   ]
  },
  {
   "cell_type": "markdown",
   "metadata": {},
   "source": [
    "## Some statistics\n"
   ]
  },
  {
   "cell_type": "markdown",
   "metadata": {},
   "source": [
    "We now perform some analysis of variance of the Cobalt concentrations  with Landuse, Rock and their product as factors."
   ]
  },
  {
   "cell_type": "markdown",
   "metadata": {},
   "source": [
    "1. First, fit a linear regression model with the Cobalt concentration as a response variable, and with Landuse, Rock and their product as covariates.\n",
    " \n",
    "To perform a linear regression with categorical variables, we use the *ols* function from the *statsmodels* package."
   ]
  },
  {
   "cell_type": "code",
   "execution_count": null,
   "metadata": {},
   "outputs": [],
   "source": [
    "## For linear regressions (using R-style formulas to define regression)\n",
    "from statsmodels.formula.api import ols"
   ]
  },
  {
   "cell_type": "code",
   "execution_count": null,
   "metadata": {},
   "outputs": [],
   "source": [
    "# Fit the regression model, note that we use the C() function to specify that the variables are categorical\n",
    "model_aov = ols(formula='Co ~  C(Landuse) + C(Rock) + C(Landuse) * C(Rock)', data=jura).fit()\n",
    "print(model_aov.summary())"
   ]
  },
  {
   "cell_type": "markdown",
   "metadata": {},
   "source": [
    "2. Perform an ANOVA analysis on the regression model using the *stats.anova_lm* function from the *statsmodels* package."
   ]
  },
  {
   "cell_type": "code",
   "execution_count": null,
   "metadata": {},
   "outputs": [],
   "source": [
    "## For ANOVA\n",
    "from statsmodels.api import stats"
   ]
  },
  {
   "cell_type": "code",
   "execution_count": null,
   "metadata": {},
   "outputs": [],
   "source": [
    "# Perform anova analysis\n",
    "anova_table = stats.anova_lm(model_aov)\n",
    "print(anova_table)"
   ]
  },
  {
   "cell_type": "markdown",
   "metadata": {},
   "source": [
    "3. Repeat these two steps on the other concentrations (check the histograms prior to apply a transformation if necessary).\n"
   ]
  },
  {
   "cell_type": "code",
   "execution_count": null,
   "metadata": {},
   "outputs": [],
   "source": []
  },
  {
   "cell_type": "code",
   "execution_count": null,
   "metadata": {},
   "outputs": [],
   "source": []
  },
  {
   "cell_type": "code",
   "execution_count": null,
   "metadata": {},
   "outputs": [],
   "source": []
  }
 ],
 "metadata": {
  "kernelspec": {
   "display_name": "CDIS",
   "language": "python",
   "name": "python3"
  },
  "language_info": {
   "codemirror_mode": {
    "name": "ipython",
    "version": 3
   },
   "file_extension": ".py",
   "mimetype": "text/x-python",
   "name": "python",
   "nbconvert_exporter": "python",
   "pygments_lexer": "ipython3",
   "version": "3.8.19"
  }
 },
 "nbformat": 4,
 "nbformat_minor": 2
}
