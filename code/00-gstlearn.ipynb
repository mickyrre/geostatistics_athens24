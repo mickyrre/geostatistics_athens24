{
 "cells": [
  {
   "cell_type": "markdown",
   "metadata": {},
   "source": [
    "# Introduction to gstlearn"
   ]
  },
  {
   "cell_type": "code",
   "execution_count": null,
   "metadata": {},
   "outputs": [],
   "source": [
    "import numpy as np\n",
    "import pandas as pd\n",
    "import matplotlib.pyplot as plt\n",
    "\n",
    "## gstlearn\n",
    "import gstlearn as gl\n",
    "import gstlearn.plot as gp  ## for plots"
   ]
  },
  {
   "cell_type": "markdown",
   "metadata": {},
   "source": [
    "The aim of this practical session is to introduce you to a few useful utilities of the gstlearn package. We will work with the *meuse* dataset (from <https://www.rdocumentation.org/packages/sp/versions/1.3-1/topics/meuse>). It contains:\n",
    "\n",
    "* **x** and **y**: easting and northing (m) coordinates\n",
    "* **cadmium**, **copper**, **lead**, **zinc**: topsoil heavy metal concentrations (ppm) (NB: obtained from composite samples **15m x 15m**)\n",
    "* **elev**: relative elevation above the river (m)\n",
    "* **dist**: distance to the river (normalized between 0 and 1)\n",
    "* **om**, **soil**, **lime**: soil characteristics (content of organic matter, type of soil, presence of lime)\n",
    "* **ffreq**: flooding frequency\n",
    "* **landuse**: landuse classes\n",
    "* **dist.m**: distance to the river (m)"
   ]
  },
  {
   "cell_type": "markdown",
   "metadata": {},
   "source": [
    "1. Import and explore the meuse dataset ('meuse.csv')."
   ]
  },
  {
   "cell_type": "code",
   "execution_count": null,
   "metadata": {},
   "outputs": [],
   "source": [
    "## Import through Pandas\n",
    "meuse=pd.read_csv(\"meuse.csv\")\n",
    "\n",
    "## Turn concentrations into log-concentrations\n",
    "for i in range(2,6):\n",
    "    meuse.iloc[:,i]=np.log(meuse.iloc[:,i])\n",
    "    \n",
    "## Summary statistics\n",
    "meuse.describe()"
   ]
  },
  {
   "cell_type": "markdown",
   "metadata": {},
   "source": [
    "2. Create a **Db** from the jura dataset using the gstlearn *Db_fromPanda* function."
   ]
  },
  {
   "cell_type": "code",
   "execution_count": null,
   "metadata": {},
   "outputs": [],
   "source": [
    "db_meuse=gl.Db_fromPanda(meuse)\n",
    "db_meuse.display()"
   ]
  },
  {
   "cell_type": "markdown",
   "metadata": {},
   "source": [
    "3. Set the correct variables as coordinates and the Cadmium concentration as the regionalized variable of interest, by assigning them the appropriate locators using the *setLocators* method of the *Db* object."
   ]
  },
  {
   "cell_type": "code",
   "execution_count": null,
   "metadata": {},
   "outputs": [],
   "source": [
    "## Define the variables 'x'and 'y' as coordinates -> Locator \"x\"\n",
    "db_meuse.setLocators(['x','y'],gl.ELoc.X,cleanSameLocator=True) # The cleanSameLocator option allows to clean any prior assignment of the locator to one of the variables of the Db\n",
    "\n",
    "## Define the variables 'cadmium' as variable of interest -> Locator \"z\"\n",
    "db_meuse.setLocators(['cadmium'],gl.ELoc.Z,cleanSameLocator=True)\n",
    "\n",
    "db_meuse.display()"
   ]
  },
  {
   "cell_type": "markdown",
   "metadata": {},
   "source": [
    "4. Plot each heavy metal concentration. "
   ]
  },
  {
   "cell_type": "code",
   "execution_count": null,
   "metadata": {},
   "outputs": [],
   "source": [
    "## Names of all the variables in the Db\n",
    "all_names=db_meuse.getAllNames()\n",
    "\n",
    "## Metal names\n",
    "metal_names=all_names[2:6]\n",
    "print(\"Metal names :\",metal_names)\n",
    "\n",
    "## For loop for plots: The color of the points indicates the concentration\n",
    "for i in range(len(metal_names)):\n",
    "    fig, ax = gp.initGeographic()\n",
    "    ax.symbol(db_meuse, nameColor=metal_names[i],  flagLegendColor=True, legendNameColor=\"Concentration\")\n",
    "    ax.decoration(title=metal_names[i], xlabel=\"x\", ylabel=\"y\")\n",
    "    plt.show()"
   ]
  },
  {
   "cell_type": "code",
   "execution_count": null,
   "metadata": {},
   "outputs": [],
   "source": [
    "## For loop for plots: The size of the points indicates the concentration\n",
    "for i in range(len(metal_names)):\n",
    "    fig, ax = gp.initGeographic()\n",
    "    ax.symbol(db_meuse,nameSize=metal_names[i], flagLegendSize=True, legendNameSize=\"Concentration\")\n",
    "    ax.decoration(title=metal_names[i], xlabel=\"x\", ylabel=\"y\")\n",
    "    plt.show()"
   ]
  },
  {
   "cell_type": "markdown",
   "metadata": {},
   "source": [
    "5. Compute basic statistics of each heavy metal concentration (using the *dbStatisticsMono* function)"
   ]
  },
  {
   "cell_type": "code",
   "execution_count": null,
   "metadata": {},
   "outputs": [],
   "source": [
    "## Names of all the variables in the Db\n",
    "all_names=db_meuse.getAllNames()\n",
    "## Metal names\n",
    "metal_names=all_names[2:6]\n",
    "\n",
    "## Compute statistics: Mean, Min, Max, Variance, Standard-dev\n",
    "gl.dbStatisticsMono(db_meuse,\n",
    "                    names=metal_names,\n",
    "                    opers=gl.EStatOption.fromKeys([\"MEAN\",\"MINI\",\"MAXI\",\"VAR\",\"STDV\"]))"
   ]
  },
  {
   "cell_type": "markdown",
   "metadata": {},
   "source": [
    "\n",
    "6. Fit the regression line of the coordinate **y** as a function of the coordinate **x** (To perform a linear regression with categorical variables, we use the *ols* function from the *statsmodels* package). Compare the basic statistics of each heavy metal concentration above and below the regression line. (Use locator **ELoc_SEL** for masking samples)\n"
   ]
  },
  {
   "cell_type": "code",
   "execution_count": null,
   "metadata": {},
   "outputs": [],
   "source": [
    "## For linear regressions (using R-style formulas to define regression)\n",
    "from statsmodels.formula.api import ols\n",
    "\n",
    "## Fit the regression line\n",
    "reg_line = ols(formula='y ~ x', data=db_meuse.toTL()).fit()  ## the toTL method allows to convert a gstlearn Db into a Pandas dataframe\n",
    "# print(reg_line.summary())\n",
    "\n",
    "## Plot the line together with the Cadmium concentration values: Only the selected points remain\n",
    "db_meuse.clearLocators(gl.ELoc.SEL) ## Clear any prior selection on the points\n",
    "fig, ax = gp.initGeographic()\n",
    "ax.symbol(db_meuse,nameSize='cadmium', flagLegendSize=True, legendNameSize=\"Concentration\")\n",
    "ax.plot(db_meuse['x'],reg_line.predict(db_meuse.toTL()),color=\"black\",linewidth=2)\n",
    "ax.decoration(title='cadmium', xlabel=\"x\", ylabel=\"y\")\n",
    "plt.show()"
   ]
  },
  {
   "cell_type": "code",
   "execution_count": null,
   "metadata": {},
   "outputs": [],
   "source": [
    "## Create binary variable for points above the line\n",
    "db_meuse[\"Sel_above\"]=db_meuse['y'] > reg_line.predict(db_meuse.toTL())\n",
    "\n",
    "## Use the binary variable as a selection\n",
    "db_meuse.setLocators([\"Sel_above\"],gl.ELoc.SEL)\n",
    "\n",
    "## Plot the line together with the Cadmium concentration values: Only the selected points remain\n",
    "fig, ax = gp.initGeographic()\n",
    "ax.symbol(db_meuse,nameSize='cadmium', flagLegendSize=True, legendNameSize=\"Concentration\")\n",
    "ax.plot(db_meuse['x'],reg_line.predict(db_meuse.toTL()),color=\"black\",linewidth=2)\n",
    "ax.decoration(title='cadmium', xlabel=\"x\", ylabel=\"y\")\n",
    "plt.show()\n",
    "\n",
    "## Compute the statistics as before: they are computed while considering only the selected points\n",
    "gl.dbStatisticsMono(db_meuse,\n",
    "                    names=metal_names,\n",
    "                    opers=gl.EStatOption.fromKeys([\"MEAN\",\"MINI\",\"MAXI\",\"VAR\",\"STDV\"]))\n"
   ]
  },
  {
   "cell_type": "code",
   "execution_count": null,
   "metadata": {},
   "outputs": [],
   "source": [
    "## Create binary variable for points above the line\n",
    "db_meuse[\"Sel_below\"]=db_meuse['y'] < reg_line.predict(db_meuse.toTL())\n",
    "\n",
    "## Use the binary variable as a selection\n",
    "db_meuse.setLocators([\"Sel_below\"],gl.ELoc.SEL)\n",
    "\n",
    "## Plot the line together with the Cadmium concentration values: Only the selected points remain\n",
    "fig, ax = gp.initGeographic()\n",
    "ax.symbol(db_meuse,nameSize='cadmium', flagLegendSize=True, legendNameSize=\"Concentration\")\n",
    "ax.plot(db_meuse['x'],reg_line.predict(db_meuse.toTL()),color=\"black\",linewidth=2)\n",
    "ax.decoration(title='cadmium', xlabel=\"x\", ylabel=\"y\")\n",
    "plt.show()\n",
    "\n",
    "\n",
    "## Compute the statistics as before: they are computed while considering only the selected points\n",
    "gl.dbStatisticsMono(db_meuse,\n",
    "                    names=metal_names,\n",
    "                    opers=gl.EStatOption.fromKeys([\"MEAN\",\"MINI\",\"MAXI\",\"VAR\",\"STDV\"]))"
   ]
  },
  {
   "cell_type": "code",
   "execution_count": null,
   "metadata": {},
   "outputs": [],
   "source": []
  }
 ],
 "metadata": {
  "kernelspec": {
   "display_name": "base",
   "language": "python",
   "name": "python3"
  },
  "language_info": {
   "codemirror_mode": {
    "name": "ipython",
    "version": 3
   },
   "file_extension": ".py",
   "mimetype": "text/x-python",
   "name": "python",
   "nbconvert_exporter": "python",
   "pygments_lexer": "ipython3",
   "version": "3.8.13"
  }
 },
 "nbformat": 4,
 "nbformat_minor": 2
}
